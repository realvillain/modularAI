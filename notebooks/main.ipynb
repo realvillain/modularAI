{
 "cells": [
  {
   "cell_type": "markdown",
   "id": "9c9dbe90-10ae-46bc-9e9b-d57d88c291e6",
   "metadata": {},
   "source": [
    "Here i will start realization of my new project with version controlling via git"
   ]
  },
  {
   "cell_type": "code",
   "execution_count": 1,
   "id": "5ec86b2c-9329-43e9-9745-b2cddc86e2fc",
   "metadata": {},
   "outputs": [
    {
     "name": "stdout",
     "output_type": "stream",
     "text": [
      "wait im goated\n"
     ]
    }
   ],
   "source": [
    "print('wait im goated')"
   ]
  },
  {
   "cell_type": "code",
   "execution_count": null,
   "id": "bff22728-213a-4815-9a03-94a065a71710",
   "metadata": {
    "editable": true,
    "slideshow": {
     "slide_type": ""
    },
    "tags": []
   },
   "outputs": [],
   "source": []
  }
 ],
 "metadata": {
  "kernelspec": {
   "display_name": "Python 3 (ipykernel)",
   "language": "python",
   "name": "python3"
  },
  "language_info": {
   "codemirror_mode": {
    "name": "ipython",
    "version": 3
   },
   "file_extension": ".py",
   "mimetype": "text/x-python",
   "name": "python",
   "nbconvert_exporter": "python",
   "pygments_lexer": "ipython3",
   "version": "3.10.2"
  }
 },
 "nbformat": 4,
 "nbformat_minor": 5
}
